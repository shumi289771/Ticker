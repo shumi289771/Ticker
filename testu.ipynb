{
 "cells": [
  {
   "cell_type": "code",
   "execution_count": null,
   "metadata": {},
   "outputs": [],
   "source": [
    "# Importez les classes définies dans le dépôt\n",
    "from ticker import Ticker\n",
    "\n",
    "\n",
    "ticker= Ticker(\"AAPL\")\n",
    "# Récupération des données historiques\n",
    "ticker.fetch_data(\"1d\", \"2020-01-01\", \"2022-01-01\")\n",
    "ticker.display()\n",
    "ticker.save_data()\n",
    "ticker.visualize_predictions()"
   ]
  },
  {
   "cell_type": "code",
   "execution_count": null,
   "metadata": {},
   "outputs": [],
   "source": [
    "from ticker import Ticker\n",
    "from model import Model\n",
    "ticker = Ticker(\"AAPL\")\n",
    "ticker.fetch_data(\"1d\", \"2020-01-01\", \"2022-01-01\")\n",
    "model = Model(ticker.data)\n",
    "model.display()"
   ]
  }
 ],
 "metadata": {
  "kernelspec": {
   "display_name": "Python 3",
   "language": "python",
   "name": "python3"
  },
  "language_info": {
   "codemirror_mode": {
    "name": "ipython",
    "version": 3
   },
   "file_extension": ".py",
   "mimetype": "text/x-python",
   "name": "python",
   "nbconvert_exporter": "python",
   "pygments_lexer": "ipython3",
   "version": "3.12.1"
  }
 },
 "nbformat": 4,
 "nbformat_minor": 2
}
