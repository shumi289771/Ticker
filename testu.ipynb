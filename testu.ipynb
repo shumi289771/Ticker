{
 "cells": [
  {
   "cell_type": "code",
   "execution_count": null,
   "metadata": {},
   "outputs": [],
   "source": [
    "# Importez les classes définies dans le dépôt\n",
    "from ticker import Ticker\n",
    "\n",
    "\n",
    "ticker= Ticker(\"AAPL\")\n",
    "# Récupération des données historiques\n",
    "ticker.fetch_data(\"1d\", \"2020-01-01\", \"2022-01-01\")\n",
    "ticker.display()\n",
    "ticker.save_data()\n",
    "ticker.visualize_predictions()"
   ]
  },
  {
   "cell_type": "code",
   "execution_count": 1,
   "metadata": {},
   "outputs": [
    {
     "name": "stderr",
     "output_type": "stream",
     "text": [
      "2024-11-17 21:02:34.010788: I tensorflow/core/util/port.cc:153] oneDNN custom operations are on. You may see slightly different numerical results due to floating-point round-off errors from different computation orders. To turn them off, set the environment variable `TF_ENABLE_ONEDNN_OPTS=0`.\n",
      "2024-11-17 21:02:34.012227: I external/local_xla/xla/tsl/cuda/cudart_stub.cc:32] Could not find cuda drivers on your machine, GPU will not be used.\n",
      "2024-11-17 21:02:34.015556: I external/local_xla/xla/tsl/cuda/cudart_stub.cc:32] Could not find cuda drivers on your machine, GPU will not be used.\n",
      "2024-11-17 21:02:34.024433: E external/local_xla/xla/stream_executor/cuda/cuda_fft.cc:477] Unable to register cuFFT factory: Attempting to register factory for plugin cuFFT when one has already been registered\n",
      "WARNING: All log messages before absl::InitializeLog() is called are written to STDERR\n",
      "E0000 00:00:1731877354.039636    9462 cuda_dnn.cc:8310] Unable to register cuDNN factory: Attempting to register factory for plugin cuDNN when one has already been registered\n",
      "E0000 00:00:1731877354.043913    9462 cuda_blas.cc:1418] Unable to register cuBLAS factory: Attempting to register factory for plugin cuBLAS when one has already been registered\n",
      "2024-11-17 21:02:34.059523: I tensorflow/core/platform/cpu_feature_guard.cc:210] This TensorFlow binary is optimized to use available CPU instructions in performance-critical operations.\n",
      "To enable the following instructions: AVX2 AVX512F AVX512_VNNI FMA, in other operations, rebuild TensorFlow with the appropriate compiler flags.\n"
     ]
    },
    {
     "name": "stdout",
     "output_type": "stream",
     "text": [
      "Données récupérées avec succès\n"
     ]
    },
    {
     "name": "stderr",
     "output_type": "stream",
     "text": [
      "/home/codespace/.local/lib/python3.12/site-packages/ta/trend.py:1030: FutureWarning: Series.__setitem__ treating keys as positions is deprecated. In a future version, integer keys will always be treated as labels (consistent with DataFrame behavior). To set a value by position, use `ser.iloc[pos] = value`\n",
      "  self._psar[i] = high2\n"
     ]
    },
    {
     "name": "stdout",
     "output_type": "stream",
     "text": [
      "Indicateurs calculés\n",
      "model name :  LSTM\n",
      "scaler :  None\n",
      "indicator :  []\n",
      "time_step :  None\n",
      "optimizer :  adam\n",
      "loss :  mean_squared_error\n",
      "Données normalisées\n",
      "timse step ok\n",
      "data train\n",
      "ticker data :                                  Open       High        Low      Close  \\\n",
      "Date                                                                    \n",
      "2020-01-02 00:00:00-05:00  71.799881  72.856621  71.545395  72.796028   \n",
      "2020-01-03 00:00:00-05:00  72.020424  72.851753  71.862884  72.088287   \n",
      "2020-01-06 00:00:00-05:00  71.206077  72.701500  70.954010  72.662720   \n",
      "2020-01-07 00:00:00-05:00  72.672402  72.929314  72.100410  72.320969   \n",
      "2020-01-08 00:00:00-05:00  72.022872  73.787331  72.022872  73.484367   \n",
      "\n",
      "                              Volume  Dividends  Stock Splits    volume_adi  \\\n",
      "Date                                                                          \n",
      "2020-01-02 00:00:00-05:00  135480400        0.0           0.0  1.229591e+08   \n",
      "2020-01-03 00:00:00-05:00  146322800        0.0           0.0  4.334199e+07   \n",
      "2020-01-06 00:00:00-05:00  118387200        0.0           0.0  1.564747e+08   \n",
      "2020-01-07 00:00:00-05:00  108872000        0.0           0.0  1.055410e+08   \n",
      "2020-01-08 00:00:00-05:00  132079200        0.0           0.0  1.922633e+08   \n",
      "\n",
      "                           volume_obv  volume_cmf  ...  momentum_ppo  \\\n",
      "Date                                               ...                 \n",
      "2020-01-02 00:00:00-05:00   135480400    0.907579  ...      0.000000   \n",
      "2020-01-03 00:00:00-05:00   -10842400    0.153802  ...     -0.077612   \n",
      "2020-01-06 00:00:00-05:00   107544800    0.391001  ...     -0.074548   \n",
      "2020-01-07 00:00:00-05:00    -1327200    0.207324  ...     -0.108819   \n",
      "2020-01-08 00:00:00-05:00   130752000    0.299876  ...     -0.006754   \n",
      "\n",
      "                           momentum_ppo_signal  momentum_ppo_hist  \\\n",
      "Date                                                                \n",
      "2020-01-02 00:00:00-05:00             0.000000           0.000000   \n",
      "2020-01-03 00:00:00-05:00            -0.015522          -0.062090   \n",
      "2020-01-06 00:00:00-05:00            -0.027328          -0.047220   \n",
      "2020-01-07 00:00:00-05:00            -0.043626          -0.065193   \n",
      "2020-01-08 00:00:00-05:00            -0.036251           0.029498   \n",
      "\n",
      "                           momentum_pvo  momentum_pvo_signal  \\\n",
      "Date                                                           \n",
      "2020-01-02 00:00:00-05:00      0.000000             0.000000   \n",
      "2020-01-03 00:00:00-05:00      0.634648             0.126930   \n",
      "2020-01-06 00:00:00-05:00     -0.515548            -0.001566   \n",
      "2020-01-07 00:00:00-05:00     -2.006874            -0.402627   \n",
      "2020-01-08 00:00:00-05:00     -1.755802            -0.673262   \n",
      "\n",
      "                           momentum_pvo_hist  momentum_kama  others_dr  \\\n",
      "Date                                                                     \n",
      "2020-01-02 00:00:00-05:00           0.000000      72.796028   0.000000   \n",
      "2020-01-03 00:00:00-05:00           0.507718      72.522637  -0.972224   \n",
      "2020-01-06 00:00:00-05:00          -0.513982      72.578885   0.796846   \n",
      "2020-01-07 00:00:00-05:00          -1.604246      72.470270  -0.470325   \n",
      "2020-01-08 00:00:00-05:00          -1.082540      72.884837   1.608660   \n",
      "\n",
      "                           others_dlr  others_cr  \n",
      "Date                                              \n",
      "2020-01-02 00:00:00-05:00    0.000000   0.000000  \n",
      "2020-01-03 00:00:00-05:00   -0.976981  -0.972224  \n",
      "2020-01-06 00:00:00-05:00    0.793688  -0.183126  \n",
      "2020-01-07 00:00:00-05:00   -0.471435  -0.652590  \n",
      "2020-01-08 00:00:00-05:00    1.595859   0.945573  \n",
      "\n",
      "[5 rows x 93 columns]\n",
      "normelized data       Close  trend_ema_fast\n",
      "0  0.148773        0.109789\n",
      "1  0.143015        0.108825\n",
      "2  0.147688        0.108792\n",
      "3  0.144908        0.108298\n",
      "4  0.154373        0.109465\n",
      "window ( 60 ) : \n",
      "X_train :  355  windows de ( 60 ) éléments\n",
      "y_train :  355\n",
      "X_test :  89  windows de ( 60 ) éléments\n",
      "y_test :  89\n"
     ]
    },
    {
     "name": "stderr",
     "output_type": "stream",
     "text": [
      "2024-11-17 21:11:52.847725: E external/local_xla/xla/stream_executor/cuda/cuda_driver.cc:152] failed call to cuInit: INTERNAL: CUDA error: Failed call to cuInit: UNKNOWN ERROR (303)\n",
      "/usr/local/python/3.12.1/lib/python3.12/site-packages/keras/src/layers/rnn/rnn.py:204: UserWarning: Do not pass an `input_shape`/`input_dim` argument to a layer. When using Sequential models, prefer using an `Input(shape)` object as the first layer in the model instead.\n",
      "  super().__init__(**kwargs)\n"
     ]
    },
    {
     "ename": "ValueError",
     "evalue": "Data cardinality is ambiguous. Make sure all arrays contain the same number of samples.'x' sizes: 355\n'y' sizes: 1, 1, 1, 1, 1, 1, 1, 1, 1, 1, 1, 1, 1, 1, 1, 1, 1, 1, 1, 1, 1, 1, 1, 1, 1, 1, 1, 1, 1, 1, 1, 1, 1, 1, 1, 1, 1, 1, 1, 1, 1, 1, 1, 1, 1, 1, 1, 1, 1, 1, 1, 1, 1, 1, 1, 1, 1, 1, 1, 1, 1, 1, 1, 1, 1, 1, 1, 1, 1, 1, 1, 1, 1, 1, 1, 1, 1, 1, 1, 1, 1, 1, 1, 1, 1, 1, 1, 1, 1, 1, 1, 1, 1, 1, 1, 1, 1, 1, 1, 1, 1, 1, 1, 1, 1, 1, 1, 1, 1, 1, 1, 1, 1, 1, 1, 1, 1, 1, 1, 1, 1, 1, 1, 1, 1, 1, 1, 1, 1, 1, 1, 1, 1, 1, 1, 1, 1, 1, 1, 1, 1, 1, 1, 1, 1, 1, 1, 1, 1, 1, 1, 1, 1, 1, 1, 1, 1, 1, 1, 1, 1, 1, 1, 1, 1, 1, 1, 1, 1, 1, 1, 1, 1, 1, 1, 1, 1, 1, 1, 1, 1, 1, 1, 1, 1, 1, 1, 1, 1, 1, 1, 1, 1, 1, 1, 1, 1, 1, 1, 1, 1, 1, 1, 1, 1, 1, 1, 1, 1, 1, 1, 1, 1, 1, 1, 1, 1, 1, 1, 1, 1, 1, 1, 1, 1, 1, 1, 1, 1, 1, 1, 1, 1, 1, 1, 1, 1, 1, 1, 1, 1, 1, 1, 1, 1, 1, 1, 1, 1, 1, 1, 1, 1, 1, 1, 1, 1, 1, 1, 1, 1, 1, 1, 1, 1, 1, 1, 1, 1, 1, 1, 1, 1, 1, 1, 1, 1, 1, 1, 1, 1, 1, 1, 1, 1, 1, 1, 1, 1, 1, 1, 1, 1, 1, 1, 1, 1, 1, 1, 1, 1, 1, 1, 1, 1, 1, 1, 1, 1, 1, 1, 1, 1, 1, 1, 1, 1, 1, 1, 1, 1, 1, 1, 1, 1, 1, 1, 1, 1, 1, 1, 1, 1, 1, 1, 1, 1, 1, 1, 1, 1, 1, 1, 1, 1, 1, 1, 1, 1, 1, 1, 1, 1, 1, 1\n",
     "output_type": "error",
     "traceback": [
      "\u001b[0;31m---------------------------------------------------------------------------\u001b[0m",
      "\u001b[0;31mValueError\u001b[0m                                Traceback (most recent call last)",
      "Cell \u001b[0;32mIn[1], line 12\u001b[0m\n\u001b[1;32m     10\u001b[0m rate \u001b[38;5;241m=\u001b[39m Rating(lstm, ticker,indicators \u001b[38;5;241m=\u001b[39m [\u001b[38;5;124m'\u001b[39m\u001b[38;5;124mClose\u001b[39m\u001b[38;5;124m'\u001b[39m,\u001b[38;5;124m'\u001b[39m\u001b[38;5;124mtrend_ema_fast\u001b[39m\u001b[38;5;124m'\u001b[39m])\n\u001b[1;32m     11\u001b[0m rate\u001b[38;5;241m.\u001b[39mdisplay()\n\u001b[0;32m---> 12\u001b[0m \u001b[43mrate\u001b[49m\u001b[38;5;241;43m.\u001b[39;49m\u001b[43mrun\u001b[49m\u001b[43m(\u001b[49m\u001b[43m)\u001b[49m\n",
      "File \u001b[0;32m/workspaces/Ticker/model.py:131\u001b[0m, in \u001b[0;36mrun\u001b[0;34m(self)\u001b[0m\n\u001b[1;32m    129\u001b[0m \u001b[38;5;28;01mdef\u001b[39;00m \u001b[38;5;21mrun\u001b[39m(\u001b[38;5;28mself\u001b[39m):\n\u001b[0;32m--> 131\u001b[0m     \u001b[38;5;28mself\u001b[39m\u001b[38;5;241m.\u001b[39mmodel\u001b[38;5;241m.\u001b[39mcompile(\u001b[38;5;28mself\u001b[39m\u001b[38;5;241m.\u001b[39mX_train)\n\u001b[1;32m    133\u001b[0m     \u001b[38;5;66;03m# Entraîner le modèle\u001b[39;00m\n\u001b[1;32m    134\u001b[0m     \u001b[38;5;28mself\u001b[39m\u001b[38;5;241m.\u001b[39mmodel\u001b[38;5;241m.\u001b[39mmodel\u001b[38;5;241m.\u001b[39mfit(\u001b[38;5;28mself\u001b[39m\u001b[38;5;241m.\u001b[39mX_train, \u001b[38;5;28mself\u001b[39m\u001b[38;5;241m.\u001b[39my_train, \n\u001b[1;32m    135\u001b[0m                    \u001b[38;5;28mself\u001b[39m\u001b[38;5;241m.\u001b[39mepochs, \u001b[38;5;28mself\u001b[39m\u001b[38;5;241m.\u001b[39mbatch_size, \n\u001b[1;32m    136\u001b[0m                    validation_data\u001b[38;5;241m=\u001b[39m(\u001b[38;5;28mself\u001b[39m\u001b[38;5;241m.\u001b[39mX_test, \u001b[38;5;28mself\u001b[39m\u001b[38;5;241m.\u001b[39my_test))\n",
      "File \u001b[0;32m/usr/local/python/3.12.1/lib/python3.12/site-packages/keras/src/utils/traceback_utils.py:122\u001b[0m, in \u001b[0;36mfilter_traceback.<locals>.error_handler\u001b[0;34m(*args, **kwargs)\u001b[0m\n\u001b[1;32m    119\u001b[0m     filtered_tb \u001b[38;5;241m=\u001b[39m _process_traceback_frames(e\u001b[38;5;241m.\u001b[39m__traceback__)\n\u001b[1;32m    120\u001b[0m     \u001b[38;5;66;03m# To get the full stack trace, call:\u001b[39;00m\n\u001b[1;32m    121\u001b[0m     \u001b[38;5;66;03m# `keras.config.disable_traceback_filtering()`\u001b[39;00m\n\u001b[0;32m--> 122\u001b[0m     \u001b[38;5;28;01mraise\u001b[39;00m e\u001b[38;5;241m.\u001b[39mwith_traceback(filtered_tb) \u001b[38;5;28;01mfrom\u001b[39;00m \u001b[38;5;28;01mNone\u001b[39;00m\n\u001b[1;32m    123\u001b[0m \u001b[38;5;28;01mfinally\u001b[39;00m:\n\u001b[1;32m    124\u001b[0m     \u001b[38;5;28;01mdel\u001b[39;00m filtered_tb\n",
      "File \u001b[0;32m/usr/local/python/3.12.1/lib/python3.12/site-packages/keras/src/trainers/data_adapters/data_adapter_utils.py:114\u001b[0m, in \u001b[0;36mcheck_data_cardinality\u001b[0;34m(data)\u001b[0m\n\u001b[1;32m    110\u001b[0m     sizes \u001b[38;5;241m=\u001b[39m \u001b[38;5;124m\"\u001b[39m\u001b[38;5;124m, \u001b[39m\u001b[38;5;124m\"\u001b[39m\u001b[38;5;241m.\u001b[39mjoin(\n\u001b[1;32m    111\u001b[0m         \u001b[38;5;28mstr\u001b[39m(i\u001b[38;5;241m.\u001b[39mshape[\u001b[38;5;241m0\u001b[39m]) \u001b[38;5;28;01mfor\u001b[39;00m i \u001b[38;5;129;01min\u001b[39;00m tree\u001b[38;5;241m.\u001b[39mflatten(single_data)\n\u001b[1;32m    112\u001b[0m     )\n\u001b[1;32m    113\u001b[0m     msg \u001b[38;5;241m+\u001b[39m\u001b[38;5;241m=\u001b[39m \u001b[38;5;124mf\u001b[39m\u001b[38;5;124m\"\u001b[39m\u001b[38;5;124m'\u001b[39m\u001b[38;5;132;01m{\u001b[39;00mlabel\u001b[38;5;132;01m}\u001b[39;00m\u001b[38;5;124m'\u001b[39m\u001b[38;5;124m sizes: \u001b[39m\u001b[38;5;132;01m{\u001b[39;00msizes\u001b[38;5;132;01m}\u001b[39;00m\u001b[38;5;130;01m\\n\u001b[39;00m\u001b[38;5;124m\"\u001b[39m\n\u001b[0;32m--> 114\u001b[0m \u001b[38;5;28;01mraise\u001b[39;00m \u001b[38;5;167;01mValueError\u001b[39;00m(msg)\n",
      "\u001b[0;31mValueError\u001b[0m: Data cardinality is ambiguous. Make sure all arrays contain the same number of samples.'x' sizes: 355\n'y' sizes: 1, 1, 1, 1, 1, 1, 1, 1, 1, 1, 1, 1, 1, 1, 1, 1, 1, 1, 1, 1, 1, 1, 1, 1, 1, 1, 1, 1, 1, 1, 1, 1, 1, 1, 1, 1, 1, 1, 1, 1, 1, 1, 1, 1, 1, 1, 1, 1, 1, 1, 1, 1, 1, 1, 1, 1, 1, 1, 1, 1, 1, 1, 1, 1, 1, 1, 1, 1, 1, 1, 1, 1, 1, 1, 1, 1, 1, 1, 1, 1, 1, 1, 1, 1, 1, 1, 1, 1, 1, 1, 1, 1, 1, 1, 1, 1, 1, 1, 1, 1, 1, 1, 1, 1, 1, 1, 1, 1, 1, 1, 1, 1, 1, 1, 1, 1, 1, 1, 1, 1, 1, 1, 1, 1, 1, 1, 1, 1, 1, 1, 1, 1, 1, 1, 1, 1, 1, 1, 1, 1, 1, 1, 1, 1, 1, 1, 1, 1, 1, 1, 1, 1, 1, 1, 1, 1, 1, 1, 1, 1, 1, 1, 1, 1, 1, 1, 1, 1, 1, 1, 1, 1, 1, 1, 1, 1, 1, 1, 1, 1, 1, 1, 1, 1, 1, 1, 1, 1, 1, 1, 1, 1, 1, 1, 1, 1, 1, 1, 1, 1, 1, 1, 1, 1, 1, 1, 1, 1, 1, 1, 1, 1, 1, 1, 1, 1, 1, 1, 1, 1, 1, 1, 1, 1, 1, 1, 1, 1, 1, 1, 1, 1, 1, 1, 1, 1, 1, 1, 1, 1, 1, 1, 1, 1, 1, 1, 1, 1, 1, 1, 1, 1, 1, 1, 1, 1, 1, 1, 1, 1, 1, 1, 1, 1, 1, 1, 1, 1, 1, 1, 1, 1, 1, 1, 1, 1, 1, 1, 1, 1, 1, 1, 1, 1, 1, 1, 1, 1, 1, 1, 1, 1, 1, 1, 1, 1, 1, 1, 1, 1, 1, 1, 1, 1, 1, 1, 1, 1, 1, 1, 1, 1, 1, 1, 1, 1, 1, 1, 1, 1, 1, 1, 1, 1, 1, 1, 1, 1, 1, 1, 1, 1, 1, 1, 1, 1, 1, 1, 1, 1, 1, 1, 1, 1, 1, 1, 1, 1, 1, 1, 1, 1, 1, 1, 1\n"
     ]
    }
   ],
   "source": [
    "from ticker import Ticker\n",
    "from model import Lstm\n",
    "from model import Rating\n",
    "\n",
    "ticker = Ticker(\"AAPL\")\n",
    "ticker.fetch_data(\"1d\", \"2020-01-01\", \"2022-01-01\")\n",
    "lstm = Lstm()\n",
    "lstm.display()\n",
    "\n",
    "rate = Rating(lstm, ticker,indicators = ['Close','trend_ema_fast'])\n",
    "rate.display()\n",
    "rate.run()\n"
   ]
  }
 ],
 "metadata": {
  "kernelspec": {
   "display_name": "Python 3",
   "language": "python",
   "name": "python3"
  },
  "language_info": {
   "codemirror_mode": {
    "name": "ipython",
    "version": 3
   },
   "file_extension": ".py",
   "mimetype": "text/x-python",
   "name": "python",
   "nbconvert_exporter": "python",
   "pygments_lexer": "ipython3",
   "version": "3.12.1"
  }
 },
 "nbformat": 4,
 "nbformat_minor": 2
}
